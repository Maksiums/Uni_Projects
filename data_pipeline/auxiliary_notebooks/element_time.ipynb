{
 "cells": [
  {
   "cell_type": "code",
   "execution_count": 1,
   "metadata": {},
   "outputs": [],
   "source": [
    "import pandas as pd\n",
    "import numpy as np"
   ]
  },
  {
   "cell_type": "code",
   "execution_count": 3,
   "metadata": {},
   "outputs": [
    {
     "name": "stdout",
     "output_type": "stream",
     "text": [
      "72.765\n"
     ]
    }
   ],
   "source": [
    "path = \"/Users/maks/Documents/MSc_project/data/interpolation_prep/blue41.xlsx\"\n",
    "\n",
    "df = pd.read_excel(path, usecols = \"A\")\n",
    "\n",
    "time = np.array(df['time'].values)\n",
    "\n",
    "print(time[1])"
   ]
  },
  {
   "cell_type": "code",
   "execution_count": 8,
   "metadata": {},
   "outputs": [],
   "source": [
    "def generate_time(og_time, step = 1/30, max_gap = 1.5):\n",
    "    \"\"\"\n",
    "    Function that takes in an existing time series array, and creates a new array based on it.\n",
    "    og_time is the existing time series data,\n",
    "    step is the the desired gap between consecutive time steps,\n",
    "    max_gap is the maximum gap between consecutive time steps that will be overwritten with newly generated steps. If max_gap is exceeded, the gap between points is left as it was.\n",
    "    This function also adds two points extending into the \"past\" and \"future\" compared to the original data.\n",
    "    \"\"\"\n",
    "\n",
    "    new_time = [og_time[0] - (step * 2), og_time[0] - step]\n",
    "\n",
    "    for i in range(len(og_time) - 1):\n",
    "        new_time.append(og_time[i])\n",
    "        gap = og_time[i + 1] - og_time[i]\n",
    "\n",
    "        #Looks for gaps largee than max_gap\n",
    "        if gap <= max_gap:\n",
    "            steps = int(gap / step) #Generates points within the gap with steps of step\n",
    "            for j in range(1, steps):\n",
    "                new_time.append(og_time[i] + j * step)\n",
    "\n",
    "    new_time.append(og_time[-1])\n",
    "    new_time.extend((og_time[-1] + step, og_time[-1] + (step * 2)))\n",
    "\n",
    "    return np.array(new_time)"
   ]
  },
  {
   "cell_type": "code",
   "execution_count": 9,
   "metadata": {},
   "outputs": [],
   "source": [
    "new_time = generate_time(time)"
   ]
  },
  {
   "cell_type": "code",
   "execution_count": 10,
   "metadata": {},
   "outputs": [],
   "source": [
    "pd.DataFrame({\"cooler_time\": new_time}).to_excel('/Users/maks/Desktop/placeholder/time_test.xlsx', index = False)"
   ]
  }
 ],
 "metadata": {
  "kernelspec": {
   "display_name": "Python 3",
   "language": "python",
   "name": "python3"
  },
  "language_info": {
   "codemirror_mode": {
    "name": "ipython",
    "version": 3
   },
   "file_extension": ".py",
   "mimetype": "text/x-python",
   "name": "python",
   "nbconvert_exporter": "python",
   "pygments_lexer": "ipython3",
   "version": "3.12.3"
  }
 },
 "nbformat": 4,
 "nbformat_minor": 2
}
