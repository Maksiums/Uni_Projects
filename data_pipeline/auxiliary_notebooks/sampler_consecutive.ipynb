{
 "cells": [
  {
   "cell_type": "markdown",
   "metadata": {},
   "source": [
    "An early version of the sampler function which offers a chosen amount of overlap over consecutively drawn 60 point samples. "
   ]
  },
  {
   "cell_type": "code",
   "execution_count": 4,
   "metadata": {},
   "outputs": [],
   "source": [
    "import pandas as pd\n",
    "import numpy as np\n",
    "import random\n",
    "import os"
   ]
  },
  {
   "cell_type": "code",
   "execution_count": 9,
   "metadata": {},
   "outputs": [],
   "source": [
    "def generate_consecutive_samples(read, batch, sequence_length = 45, overlap = 10):\n",
    "    \"\"\"\n",
    "    A function that creates a list of arrays that are to serve as samples for processing later.\n",
    "    read is the directory where Excel files containing variables are stored;\n",
    "    batch is the number of samples that will be generated;\n",
    "    sequence length is the length of each sample;\n",
    "    overlap is the number of pointseach sample overlaps with the previous one.\n",
    "    Returns a list of numpy arrays.\n",
    "    \"\"\"\n",
    "\n",
    "    def load_excel(file_path):\n",
    "        \"\"\"\n",
    "        Extracts sheets from Excel files given a file directory.\n",
    "        \"\"\"\n",
    "        excel_file = pd.ExcelFile(file_path)\n",
    "        \n",
    "        sheets = {sheet_name: pd.read_excel(excel_file, sheet_name = sheet_name) for sheet_name in excel_file.sheet_names}\n",
    "\n",
    "        return sheets\n",
    "    \n",
    "    def random_file(read):\n",
    "        \"\"\"\n",
    "        Chooses a random file from a provided directory.\n",
    "        \"\"\"\n",
    "        files = [f for f in os.listdir(read) if f.endswith(\".xlsx\") and not f.startswith(\".\")]\n",
    "        \n",
    "        if not files:\n",
    "            raise FileNotFoundError(\"No Excel files found in the directory\")\n",
    "        \n",
    "        return os.path.join(read, random.choice(files))\n",
    "    \n",
    "    def sampler(sheet_data, sequence_length, overlap):\n",
    "        \"\"\"\n",
    "        Creates samples from an Excel sheet. Samples include 7 variables, each containing sequence_length of points.\n",
    "        sheet_data are sheets from which data is going to be sampled;\n",
    "        sequence length is the number of points each sample will contain;\n",
    "        overlap is the number of points sample a will share wil sample a+1.\n",
    "        \"\"\"\n",
    "        num_points = len(sheet_data)\n",
    "        \n",
    "        if num_points < sequence_length:\n",
    "            return None\n",
    "        \n",
    "        samples = []\n",
    "        start_index = random.randint(0, num_points - sequence_length)\n",
    "\n",
    "        while start_index + sequence_length <= num_points:\n",
    "            end_index = start_index + sequence_length\n",
    "            sample = sheet_data.iloc[start_index : end_index].to_numpy()\n",
    "            samples.append(sample)\n",
    "            #Updates start_index of next sample to ensure overlap\n",
    "            start_index = end_index - overlap\n",
    "\n",
    "            #Checks if the following sample would exceed bounds\n",
    "            if start_index + sequence_length > num_points:\n",
    "                break\n",
    "\n",
    "        return samples\n",
    "    \n",
    "    def weighted_random_choice(sheets):\n",
    "        \"\"\"\n",
    "        Assigns weights to sheets based on the length of each sheet.\n",
    "        \"\"\"\n",
    "        total_points = sum(len(data) for data in sheets.values())\n",
    "        weights = [len(data) / total_points for data in sheets.values()]\n",
    "\n",
    "        return random.choices(list(sheets.keys()), weights = weights, k = 1)[0]\n",
    "    \n",
    "    #Initializes list to store sample arrays\n",
    "    samples = []\n",
    "\n",
    "    while len(samples) < batch:\n",
    "        file_path = random_file(read)\n",
    "        sheets = load_excel(file_path)\n",
    "\n",
    "        while len(samples) < batch:\n",
    "            sheet_name = weighted_random_choice(sheets)\n",
    "            sheet_data = sheets[sheet_name][[\"velocity_x\", \"velocity_y\", \"velocity_y\", \"tortuosity3d\", \"angular_velocity_yz\", \"angular_velocity_xz\", \"angular_velocity_xy\"]]\n",
    "            new_samples = sampler(sheet_data, sequence_length, overlap)\n",
    "\n",
    "            if new_samples:\n",
    "                samples.extend(new_samples)\n",
    "\n",
    "            #If batch size was reached, trims list and stops\n",
    "            if len(samples) >= batch:\n",
    "                samples = samples[: batch]\n",
    "                break\n",
    "\n",
    "            #If sheet_data has no more valid smaples, moves to next sheet\n",
    "            if not new_samples:\n",
    "                break\n",
    "\n",
    "    return samples"
   ]
  },
  {
   "cell_type": "code",
   "execution_count": 11,
   "metadata": {},
   "outputs": [],
   "source": [
    "directory = \"/Users/maks/Documents/MSc_project/data/features\"\n",
    "\n",
    "test = generate_samples(directory, 5)"
   ]
  },
  {
   "cell_type": "code",
   "execution_count": 14,
   "metadata": {},
   "outputs": [
    {
     "name": "stdout",
     "output_type": "stream",
     "text": [
      "(45, 7)\n",
      "5\n"
     ]
    }
   ],
   "source": [
    "print(test[1].shape)\n",
    "print(len(test))"
   ]
  }
 ],
 "metadata": {
  "kernelspec": {
   "display_name": "Python 3",
   "language": "python",
   "name": "python3"
  },
  "language_info": {
   "codemirror_mode": {
    "name": "ipython",
    "version": 3
   },
   "file_extension": ".py",
   "mimetype": "text/x-python",
   "name": "python",
   "nbconvert_exporter": "python",
   "pygments_lexer": "ipython3",
   "version": "3.12.3"
  }
 },
 "nbformat": 4,
 "nbformat_minor": 2
}
