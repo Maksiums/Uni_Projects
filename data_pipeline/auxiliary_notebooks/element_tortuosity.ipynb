{
 "cells": [
  {
   "cell_type": "code",
   "execution_count": 1,
   "metadata": {},
   "outputs": [],
   "source": [
    "import numpy as np"
   ]
  },
  {
   "cell_type": "code",
   "execution_count": 2,
   "metadata": {},
   "outputs": [],
   "source": [
    "def tortuosity(x, y, z, time, max_gap = 1.5):\n",
    "    \"\"\"\n",
    "    Calculates the tortuosity of the path given three spatial coordinates x,y and z.\n",
    "    time is an array with time steps of the spatial data. This is necessary because there are jumps in data when, for example, an experiment was restarted.\n",
    "    max_gap is an optional variable that specifies how large of a gap to allow to continue the calculation. If max_gap is exceeded the calculation restarts from that point.\n",
    "    \"\"\"\n",
    "\n",
    "    tort_values = []\n",
    "    path_length = 0\n",
    "    index = 0\n",
    "\n",
    "    for i in range(1, len(x)):\n",
    "        #Checks for a time gap larger than max_gap\n",
    "        time_gap = time[i] - time[i - 1]\n",
    "\n",
    "        if time_gap > max_gap:\n",
    "            #Calculates displacement and tortuosity for the segment\n",
    "            if index != i - 1:\n",
    "                displacement = np.sqrt((x[i - 1] - x[index])**2 + (y[i - 1] - y[index])**2 + (z[i - 1] - z[index])**2)\n",
    "\n",
    "                if displacement != 0:\n",
    "                    tortuosity = path_length / displacement\n",
    "                    tort_values.append(tortuosity)\n",
    "            #Resets for next segment\n",
    "            path_length = 0\n",
    "            index = i\n",
    "        \n",
    "        else:\n",
    "            #Calculates distance between consecutive points\n",
    "            distance = np.sqrt((x[i] - x[i -  1])**2 + (y[i] - y[i - 1])**2 + (z[i] - z[i - 1])**2)\n",
    "            path_length += distance\n",
    "\n",
    "    #Calculates tortusoity for final segment\n",
    "    if index < len(x) - 1:\n",
    "        displacement = np.sqrt((x[-1] - x[index])**2 + (y[-1] - y[index])**2 + (z[-1] - z[index])**2)\n",
    "\n",
    "        if displacement != 0:\n",
    "            tortuosity = path_length / displacement\n",
    "            tort_values.append(tortuosity)\n",
    "\n",
    "    return np.array(tort_values)"
   ]
  }
 ],
 "metadata": {
  "kernelspec": {
   "display_name": "Python 3",
   "language": "python",
   "name": "python3"
  },
  "language_info": {
   "codemirror_mode": {
    "name": "ipython",
    "version": 3
   },
   "file_extension": ".py",
   "mimetype": "text/x-python",
   "name": "python",
   "nbconvert_exporter": "python",
   "pygments_lexer": "ipython3",
   "version": "3.12.3"
  }
 },
 "nbformat": 4,
 "nbformat_minor": 2
}
