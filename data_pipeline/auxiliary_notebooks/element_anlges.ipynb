{
 "cells": [
  {
   "cell_type": "code",
   "execution_count": 1,
   "metadata": {},
   "outputs": [],
   "source": [
    "import numpy as np"
   ]
  },
  {
   "cell_type": "code",
   "execution_count": 2,
   "metadata": {},
   "outputs": [],
   "source": [
    "def calculate_plane_ang_change(x, y):\n",
    "    \"\"\"\n",
    "    Given two spatial coordinates, calculates the change in angle on the plane created by these two coordinates.\n",
    "    So angle in the:\n",
    "    x-direction given y and z coordinates;\n",
    "    y-direction given x and z coordinates;\n",
    "    z-direction given x and y coordinates.\n",
    "    \"\"\"\n",
    "\n",
    "    angles = []\n",
    "\n",
    "    for i in range(2, len(x)):\n",
    "        #Creates vectors in the plane\n",
    "        v1 = np.array([x[i] - x[i - 1], y[i] - y[i - 1]])\n",
    "        v2 = np.array([x[i - 1] - x[i - 2], y[i - 1] - y[i - 2]])\n",
    "\n",
    "        #Calculates magnitudes of vectors\n",
    "        mag1 = np.linalg.norm(v1)\n",
    "        mag2 = np.linalg.norm(v2)\n",
    "\n",
    "        #Calculates dot_product\n",
    "        dot_product = np.dot(v1, v2)\n",
    "\n",
    "        #Calculates the cosine of the angle\n",
    "        cos = dot_product / (mag1 * mag2) if mag1 != 0 and mag2 != 0 else 1\n",
    "\n",
    "        #Ensure value is in good range for arccos\n",
    "        cos = np.clip(cos, -1, 1)\n",
    "\n",
    "        #Calculates the angle and converts to degrees\n",
    "        angle = np.degrees(np.arccos(cos))\n",
    "        angles.append(angle)\n",
    "\n",
    "    return np.array(angles)"
   ]
  }
 ],
 "metadata": {
  "kernelspec": {
   "display_name": "Python 3",
   "language": "python",
   "name": "python3"
  },
  "language_info": {
   "codemirror_mode": {
    "name": "ipython",
    "version": 3
   },
   "file_extension": ".py",
   "mimetype": "text/x-python",
   "name": "python",
   "nbconvert_exporter": "python",
   "pygments_lexer": "ipython3",
   "version": "3.12.3"
  }
 },
 "nbformat": 4,
 "nbformat_minor": 2
}
