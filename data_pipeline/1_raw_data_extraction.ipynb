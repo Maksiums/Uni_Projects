{
 "cells": [
  {
   "cell_type": "markdown",
   "metadata": {},
   "source": [
    "Iterates over all Track3D files and extracts time, and x, y and z coordinates to then create a new batch of files. This was the step taking files from number 0 to number 1 in the *file_process* folder."
   ]
  },
  {
   "cell_type": "code",
   "execution_count": 2,
   "metadata": {},
   "outputs": [],
   "source": [
    "\n",
    "import pandas as pd\n"
   ]
  },
  {
   "cell_type": "code",
   "execution_count": 1,
   "metadata": {},
   "outputs": [],
   "source": [
    "names = [\"untagged1\", \"yellow8\", \"brownrq\", \"red70\", \"whiter73\", \"yellow21\", \"untagged3\", \"blue83\", \"white51\", \"green40\", \"red25\", \"red26\", \"untagged\",\n",
    "         \"yellow24\", \"reverse2\", \"green46\", \"red32\", \"untagged\", \"yellow44\", \"green48\", \"green11\", \"untagged4\", \"red33\", \"red82\", \"yellow64\", \"green53\", \n",
    "         \"reverse20\", \"red61\", \"untagged6\", \"green56\", \"yellow66\", \"untagged7\", \"red45\", \"yellow73\", \"yellow71\", \"untagged9\", \"blue41\", \"blue65\", \n",
    "         \"untagged10\", \"untagged11\", \"white90\", \"green62\", \"untagged12\", \"untagged13\", \"yellow78\", \"yellow83\", \"green66\", \"green67\", \"white95\", \"blue74\",\n",
    "         \"green68\", \"yellow85\"]\n"
   ]
  },
  {
   "cell_type": "code",
   "execution_count": 7,
   "metadata": {},
   "outputs": [],
   "source": [
    "#Extracts time and positional data from raw data files and savesthem to specified directory\n",
    "for i in range(len(names)):\n",
    "\n",
    "    name = names[i]\n",
    "    path = \"/Users/maks/Documents/MSc_project/data/bee_trajectory_data/TrackData_\"\n",
    "    xlsx = \".xlsx\"\n",
    "    filepath = path + name + xlsx\n",
    "\n",
    "    read = pd.read_excel(filepath, usecols = \"AT:AW\")\n",
    "\n",
    "    time = read[\"time\"].values\n",
    "    x = read[\"x\"].values\n",
    "    y = read[\"y\"].values\n",
    "    z = read[\"z\"].values\n",
    "\n",
    "    to = \"/Users/maks/Documents/MSc_project/data/coords_extracted/\"\n",
    "    destination = to + names[i] + xlsx\n",
    "\n",
    "    pd.DataFrame({\"time\": time, \"x\": x, \"y\": y, \"z\": z}).to_excel(destination, sheet_name = names[i], index = False)"
   ]
  }
 ],
 "metadata": {
  "kernelspec": {
   "display_name": "Python 3",
   "language": "python",
   "name": "python3"
  },
  "language_info": {
   "codemirror_mode": {
    "name": "ipython",
    "version": 3
   },
   "file_extension": ".py",
   "mimetype": "text/x-python",
   "name": "python",
   "nbconvert_exporter": "python",
   "pygments_lexer": "ipython3",
   "version": "3.12.3"
  }
 },
 "nbformat": 4,
 "nbformat_minor": 2
}
